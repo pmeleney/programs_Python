{
 "cells": [
  {
   "cell_type": "code",
   "execution_count": null,
   "metadata": {
    "collapsed": true
   },
   "outputs": [],
   "source": [
    "def patsyStringGenerator(target, variables, found = []):\n",
    "    patsyString = target + ' ~ '\n",
    "    \n",
    "    if len(found) == 0:\n",
    "        pass\n",
    "    elif len(found) == 1:\n",
    "        patsyString += found[0] + ' + '\n",
    "    else:\n",
    "        for ele in found:\n",
    "            patsyString += ele + ' + '\n",
    "    \n",
    "    if len(variables) == 1:\n",
    "        patsyString += variables[0] + ' + '\n",
    "    else:\n",
    "        for ele in variables:\n",
    "            patsyString += ele + ' + '\n",
    "    \n",
    "    if patsyString[-3:] == ' + ':\n",
    "        patsyString = patsyString[:-3]\n",
    "        \n",
    "    return patsyString\n"
   ]
  }
 ],
 "metadata": {
  "kernelspec": {
   "display_name": "Python 2",
   "language": "python",
   "name": "python2"
  },
  "language_info": {
   "codemirror_mode": {
    "name": "ipython",
    "version": 2
   },
   "file_extension": ".py",
   "mimetype": "text/x-python",
   "name": "python",
   "nbconvert_exporter": "python",
   "pygments_lexer": "ipython2",
   "version": "2.7.11"
  }
 },
 "nbformat": 4,
 "nbformat_minor": 0
}
