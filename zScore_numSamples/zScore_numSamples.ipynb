{
 "cells": [
  {
   "cell_type": "code",
   "execution_count": 1,
   "metadata": {
    "collapsed": false
   },
   "outputs": [],
   "source": [
    "import numpy as np\n",
    "from __future__ import division\n",
    "from scipy.special import erf"
   ]
  },
  {
   "cell_type": "code",
   "execution_count": 2,
   "metadata": {
    "collapsed": false
   },
   "outputs": [],
   "source": [
    "#Explanation and Use:\n",
    "#This function takes the number of samples in a dataset and returns the number of standard deviations beyond which\n",
    "#one would expect to see a single data point 50% of the time.  If there exist many points more than this \n",
    "#number of standard deviations away, then they may be caused by some influence other than stochastic error.\n",
    "\n",
    "#Detailed Notes:\n",
    "#The actual rate of occurrence is limited by the zStep, this is accounted for in the results by printing the acutal \n",
    "#number of samples at which one can expect to see one occurrence.  This value is rounded to the nearest whole number.\n",
    "#Since it is constant in zStep is not constant in numSamples, the calculation becomes much less accurate as Z\n",
    "#increases.  "
   ]
  },
  {
   "cell_type": "code",
   "execution_count": 3,
   "metadata": {
    "collapsed": false
   },
   "outputs": [],
   "source": [
    "def numSamples_zScore(numSamples, OneSided = True, zTable_min = 1, zTable_max = 6.001, zStep = 0.001):\n",
    "    zStep = float(zStep)\n",
    "    #Array of z values to be searched\n",
    "    zTable = np.arange(zTable_min,zTable_max,zStep)\n",
    "    \n",
    "    #One sided z Score is calculated as half the two-sided score\n",
    "    if OneSided == False:\n",
    "        numSamples_table = 1/(0.5*(1-erf(zTable/np.sqrt(2))))\n",
    "        print \"TwoSided\"\n",
    "    else:\n",
    "        numSamples_table = 1/(1-erf(zTable/np.sqrt(2)))\n",
    "        print 'OneSided'\n",
    "    \n",
    "    #Find the index of the zScore with the nearest number of samples\n",
    "    z_ind = np.argmin(abs(numSamples_table - numSamples))\n",
    "    \n",
    "    z = zTable[z_ind]\n",
    "    numSamples_zScore = int(round(numSamples_table[z_ind]))\n",
    "    \n",
    "    print \"Z = \" + str(z)\n",
    "    print \"Expect to see one occurance per: \" + str(numSamples_zScore) + \" samples.\"\n",
    "    \n",
    "    return round(z,3)"
   ]
  },
  {
   "cell_type": "code",
   "execution_count": 15,
   "metadata": {
    "collapsed": false
   },
   "outputs": [
    {
     "name": "stdout",
     "output_type": "stream",
     "text": [
      "TwoSided\n",
      "Z = 3.681\n",
      "Expect to see one occurance per: 8609 samples.\n"
     ]
    }
   ],
   "source": [
    "#Example Call\n",
    "z = numSamples_zScore(8606, False, 1,8,0.001)"
   ]
  },
  {
   "cell_type": "code",
   "execution_count": 16,
   "metadata": {
    "collapsed": false
   },
   "outputs": [
    {
     "data": {
      "text/plain": [
       "3.681"
      ]
     },
     "execution_count": 16,
     "metadata": {},
     "output_type": "execute_result"
    }
   ],
   "source": [
    "z"
   ]
  },
  {
   "cell_type": "code",
   "execution_count": null,
   "metadata": {
    "collapsed": true
   },
   "outputs": [],
   "source": []
  }
 ],
 "metadata": {
  "kernelspec": {
   "display_name": "Python 2",
   "language": "python",
   "name": "python2"
  },
  "language_info": {
   "codemirror_mode": {
    "name": "ipython",
    "version": 2
   },
   "file_extension": ".py",
   "mimetype": "text/x-python",
   "name": "python",
   "nbconvert_exporter": "python",
   "pygments_lexer": "ipython2",
   "version": "2.7.10"
  }
 },
 "nbformat": 4,
 "nbformat_minor": 0
}
